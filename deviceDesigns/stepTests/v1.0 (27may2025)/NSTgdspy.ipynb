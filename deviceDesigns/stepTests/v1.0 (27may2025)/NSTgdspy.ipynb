{
 "cells": [
  {
   "cell_type": "code",
   "execution_count": 2,
   "id": "e745aaf0-2968-4b86-9383-66f4c25502ec",
   "metadata": {},
   "outputs": [],
   "source": [
    "import gdspy\n",
    "\n",
    "def centered_rectangle(center, length, width, layer, datatype):\n",
    "    cx, cy = center\n",
    "    p1 = (cx - (length / 2.0), cy - (width / 2.0))\n",
    "    p2 = (cx + (length / 2.0), cy + (width / 2.0))\n",
    "    return gdspy.Rectangle(p1, p2, layer=layer, datatype=datatype)"
   ]
  },
  {
   "cell_type": "code",
   "execution_count": 3,
   "id": "9bd7ff7b-7712-4a3b-ba44-b60f4aa25c46",
   "metadata": {},
   "outputs": [
    {
     "name": "stdout",
     "output_type": "stream",
     "text": [
      "Total Device Length: 12.5 mm\n",
      "Total Device Height: 8.0 mm\n"
     ]
    }
   ],
   "source": [
    "# length refers to distance along the x axis (horizontal)\n",
    "# width refers to distance along the y axis (vertical)\n",
    "# All distances in um\n",
    "\n",
    "Nb_sti_length = 4.5e3\n",
    "NbSi_twiddle_middle_gap_length = 2e3\n",
    "Nb_stm_length = 1.5e3\n",
    "NbSi_middle_sense_gap_length = 2e3\n",
    "Nb_sto_length = 1.5e3\n",
    "\n",
    "NbSi_overhang_length = 5e2\n",
    "\n",
    "Nb_width = 8e3\n",
    "NbSi_width = 7e3\n",
    "\n",
    "total_NbSi_length = 2 * NbSi_overhang_length + NbSi_twiddle_middle_gap_length + NbSi_middle_sense_gap_length + Nb_sti_length + Nb_stm_length + Nb_sto_length\n",
    "\n",
    "#guard_width = 20\n",
    "guard_separation = 10\n",
    "\n",
    "nbsiWindowInset = 10\n",
    "\n",
    "chip_length = 15e3\n",
    "chip_width = 10e3\n",
    "\n",
    "print(\"Total Device Length: \"+str(round(total_NbSi_length*1e-3, 3))+\" mm\")\n",
    "print(\"Total Device Height: \"+str(round(Nb_width*1e-3, 3))+\" mm\")"
   ]
  },
  {
   "cell_type": "code",
   "execution_count": 4,
   "id": "2c1846f0-6b96-4f3d-85c4-c3af49aec12e",
   "metadata": {},
   "outputs": [],
   "source": [
    "lib = gdspy.GdsLibrary()\n",
    "\n",
    "cell = lib.new_cell('FIRST')\n",
    "\n",
    "x_sti = NbSi_overhang_length-((total_NbSi_length-Nb_sti_length)/2)\n",
    "x_sto = -NbSi_overhang_length+((total_NbSi_length-Nb_sto_length)/2)\n",
    "x_stm = x_sti + ((Nb_sti_length+Nb_stm_length)/2) + NbSi_twiddle_middle_gap_length\n",
    "\n",
    "nbsiStrip = centered_rectangle(center = (0,0), length=total_NbSi_length, width=NbSi_width, layer=1, datatype=0)\n",
    "nbsiWindow = gdspy.offset([nbsiStrip], -nbsiWindowInset, join_first=True, layer=3)\n",
    "sti = centered_rectangle(center = (x_sti,0), length=Nb_sti_length, width=Nb_width, layer=2, datatype=0)\n",
    "sto = centered_rectangle(center = (x_sto,0), length=Nb_sto_length, width=Nb_width, layer=2, datatype=0)\n",
    "stm = centered_rectangle(center = (x_stm,0), length=Nb_stm_length, width=Nb_width, layer=2, datatype=0)\n",
    "\n",
    "cell.add(nbsiStrip)\n",
    "cell.add(nbsiWindow)\n",
    "cell.add(sti)\n",
    "cell.add(sto)\n",
    "cell.add(stm)\n",
    "\n",
    "nstFused = gdspy.offset(cell.get_polygons(), guard_separation, join_first=True, layer=4)\n",
    "deviceExtent = centered_rectangle(center = (0,0), length=chip_length, width=chip_width, layer=4, datatype=0)\n",
    "frame = gdspy.boolean(deviceExtent, nstFused, \"xor\", layer = 4)\n",
    "cell.add(frame)\n",
    "\n",
    "# Save the library in a file called 'first.gds'.\n",
    "lib.write_gds('nst_gdspy.gds')\n",
    "\n",
    "# Display all cells using the internal viewer.\n",
    "#gdspy.LayoutViewer()"
   ]
  },
  {
   "cell_type": "code",
   "execution_count": null,
   "id": "c4018034-b171-4f93-9aa6-832090a271fb",
   "metadata": {},
   "outputs": [],
   "source": []
  }
 ],
 "metadata": {
  "kernelspec": {
   "display_name": "Python 3 (ipykernel)",
   "language": "python",
   "name": "python3"
  },
  "language_info": {
   "codemirror_mode": {
    "name": "ipython",
    "version": 3
   },
   "file_extension": ".py",
   "mimetype": "text/x-python",
   "name": "python",
   "nbconvert_exporter": "python",
   "pygments_lexer": "ipython3",
   "version": "3.12.7"
  }
 },
 "nbformat": 4,
 "nbformat_minor": 5
}

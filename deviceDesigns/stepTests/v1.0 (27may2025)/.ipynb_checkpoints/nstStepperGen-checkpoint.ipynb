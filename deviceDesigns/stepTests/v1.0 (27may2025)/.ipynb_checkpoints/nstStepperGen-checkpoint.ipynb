{
 "cells": [
  {
   "cell_type": "code",
   "execution_count": 1,
   "id": "e745aaf0-2968-4b86-9383-66f4c25502ec",
   "metadata": {},
   "outputs": [],
   "source": [
    "import gdspy\n",
    "\n",
    "def centered_rectangle(center, length, width, layer, datatype):\n",
    "    cx, cy = center\n",
    "    p1 = (cx - (length / 2.0), cy - (width / 2.0))\n",
    "    p2 = (cx + (length / 2.0), cy + (width / 2.0))\n",
    "    return gdspy.Rectangle(p1, p2, layer=layer, datatype=datatype)"
   ]
  },
  {
   "cell_type": "code",
   "execution_count": 2,
   "id": "2c1846f0-6b96-4f3d-85c4-c3af49aec12e",
   "metadata": {},
   "outputs": [],
   "source": [
    "lib = gdspy.GdsLibrary()\n",
    "\n",
    "blockWidth = 500\n",
    "blockHeight = 7e3\n",
    "\n",
    "blockSep = 300\n",
    "totWidth = 10e3\n",
    "\n",
    "unitCell = blockWidth + blockSep\n",
    "floatBlocks = totWidth / unitCell\n",
    "numBlocks = int(floatBlocks)\n",
    "corrFact = floatBlocks - float(numBlocks)\n",
    "\n",
    "cell = lib.new_cell('FIRST')\n",
    "\n",
    "x0 = (-0.5 * totWidth) + (0.5 * (1 + corrFact) * unitCell)\n",
    "\n",
    "for blockNum in range(numBlocks):\n",
    "    xCurr = x0 + (blockNum * unitCell)\n",
    "    rectNew = centered_rectangle(center = (xCurr,0), length=blockWidth, width=blockHeight, layer=1, datatype=0)\n",
    "    cell.add(rectNew)\n",
    "\n",
    "# Save the library in a file called 'first.gds'.\n",
    "lib.write_gds('nstStep_v1p0.gds')\n",
    "\n",
    "# Display all cells using the internal viewer.\n",
    "#gdspy.LayoutViewer()"
   ]
  },
  {
   "cell_type": "code",
   "execution_count": null,
   "id": "c4018034-b171-4f93-9aa6-832090a271fb",
   "metadata": {},
   "outputs": [],
   "source": []
  },
  {
   "cell_type": "code",
   "execution_count": null,
   "id": "ba13f5d1-096f-4967-9add-6da5ef49d780",
   "metadata": {},
   "outputs": [],
   "source": []
  }
 ],
 "metadata": {
  "kernelspec": {
   "display_name": "Python 3 (ipykernel)",
   "language": "python",
   "name": "python3"
  },
  "language_info": {
   "codemirror_mode": {
    "name": "ipython",
    "version": 3
   },
   "file_extension": ".py",
   "mimetype": "text/x-python",
   "name": "python",
   "nbconvert_exporter": "python",
   "pygments_lexer": "ipython3",
   "version": "3.12.7"
  }
 },
 "nbformat": 4,
 "nbformat_minor": 5
}

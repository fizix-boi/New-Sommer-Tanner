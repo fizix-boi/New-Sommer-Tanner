{
 "cells": [
  {
   "cell_type": "code",
   "execution_count": 2,
   "metadata": {},
   "outputs": [],
   "source": [
    "import csv\n",
    "import numpy as np\n",
    "import math as mp\n",
    "import cmath as cm\n",
    "from scipy.optimize import fsolve, root, fmin\n",
    "\n",
    "import matplotlib as mpl\n",
    "import matplotlib.pyplot as plt\n",
    "\n",
    "def bestSaveFig(name):\n",
    "    plt.savefig(name, bbox_inches = 'tight', pad_inches = 0.1, dpi = 500)\n",
    "    \n",
    "def dataGet(stFN):\n",
    "    boi = csv.reader(open(stFN, \"r\"), delimiter=',')\n",
    "    \n",
    "    dep = []\n",
    "    real = []\n",
    "    imag = []\n",
    "    mag = []\n",
    "    for row in boi:\n",
    "        dep.append(float(row[0]))\n",
    "        real.append(float(row[1]))\n",
    "        imag.append(float(row[2]))\n",
    "        mag.append(float(row[3]))\n",
    "        \n",
    "    return([dep, real, imag, mag])\n",
    "\n",
    "def sweepConsol_nstFSv02(sweepSet):\n",
    "    freq = []\n",
    "    realSig = []\n",
    "    imagSig = []\n",
    "    \n",
    "    for sweep in sweepSet:\n",
    "        fn_freq1 = \"FrequencySweep_\"+str(sweep)+\".csv\"\n",
    "\n",
    "        data_freq1 = dataGet(fn_freq1)\n",
    "        freq = np.concatenate((freq, data_freq1[0]))\n",
    "        realSig = np.concatenate((realSig, data_freq1[1]))\n",
    "        imagSig = np.concatenate((imagSig, data_freq1[2]))\n",
    "    \n",
    "    return(freq, realSig, imagSig)\n",
    "\n",
    "def sweepSig_nstFSv02(sweepSet):\n",
    "    freq, realSig, imagSig = sweepConsol_nstFSv02(sweepSet)\n",
    "    magSig = np.sqrt(np.add(np.square(realSig), np.square(imagSig)))\n",
    "    \n",
    "    return(freq, realSig, imagSig, magSig)\n",
    "    "
   ]
  },
  {
   "cell_type": "code",
   "execution_count": null,
   "metadata": {},
   "outputs": [],
   "source": []
  }
 ],
 "metadata": {
  "kernelspec": {
   "display_name": "Python 3 (ipykernel)",
   "language": "python",
   "name": "python3"
  },
  "language_info": {
   "codemirror_mode": {
    "name": "ipython",
    "version": 3
   },
   "file_extension": ".py",
   "mimetype": "text/x-python",
   "name": "python",
   "nbconvert_exporter": "python",
   "pygments_lexer": "ipython3",
   "version": "3.12.7"
  }
 },
 "nbformat": 4,
 "nbformat_minor": 4
}

{
 "cells": [
  {
   "cell_type": "code",
   "execution_count": 3,
   "metadata": {},
   "outputs": [
    {
     "ename": "ImportError",
     "evalue": "cannot import name dataclass_transform",
     "output_type": "error",
     "traceback": [
      "\u001b[1;31m---------------------------------------------------------------------------\u001b[0m",
      "\u001b[1;31mImportError\u001b[0m                               Traceback (most recent call last)",
      "\u001b[1;32m<ipython-input-3-0d5f6f7c56d2>\u001b[0m in \u001b[0;36m<module>\u001b[1;34m\u001b[0m\n\u001b[1;32m----> 1\u001b[1;33m \u001b[1;32mimport\u001b[0m \u001b[0mgdsfactory\u001b[0m \u001b[1;32mas\u001b[0m \u001b[0mgf\u001b[0m\u001b[1;33m\u001b[0m\u001b[1;33m\u001b[0m\u001b[0m\n\u001b[0m",
      "\u001b[1;32m~\\anaconda3\\lib\\site-packages\\gdsfactory\\__init__.py\u001b[0m in \u001b[0;36m<module>\u001b[1;34m\u001b[0m\n\u001b[0;32m     22\u001b[0m \u001b[1;32mfrom\u001b[0m \u001b[0mtoolz\u001b[0m \u001b[1;32mimport\u001b[0m \u001b[0mcompose\u001b[0m\u001b[1;33m\u001b[0m\u001b[1;33m\u001b[0m\u001b[0m\n\u001b[0;32m     23\u001b[0m \u001b[1;32mfrom\u001b[0m \u001b[0mgdsfactory\u001b[0m\u001b[1;33m.\u001b[0m\u001b[0mcomponent_layout\u001b[0m \u001b[1;32mimport\u001b[0m \u001b[0mGroup\u001b[0m\u001b[1;33m\u001b[0m\u001b[1;33m\u001b[0m\u001b[0m\n\u001b[1;32m---> 24\u001b[1;33m \u001b[1;32mfrom\u001b[0m \u001b[0mgdsfactory\u001b[0m\u001b[1;33m.\u001b[0m\u001b[0mpath\u001b[0m \u001b[1;32mimport\u001b[0m \u001b[0mPath\u001b[0m\u001b[1;33m\u001b[0m\u001b[1;33m\u001b[0m\u001b[0m\n\u001b[0m\u001b[0;32m     25\u001b[0m \u001b[1;33m\u001b[0m\u001b[0m\n\u001b[0;32m     26\u001b[0m \u001b[1;33m\u001b[0m\u001b[0m\n",
      "\u001b[1;32m~\\anaconda3\\lib\\site-packages\\gdsfactory\\path.py\u001b[0m in \u001b[0;36m<module>\u001b[1;34m\u001b[0m\n\u001b[0;32m     19\u001b[0m \u001b[1;33m\u001b[0m\u001b[0m\n\u001b[0;32m     20\u001b[0m \u001b[1;32mfrom\u001b[0m \u001b[0mgdsfactory\u001b[0m \u001b[1;32mimport\u001b[0m \u001b[0msnap\u001b[0m\u001b[1;33m\u001b[0m\u001b[1;33m\u001b[0m\u001b[0m\n\u001b[1;32m---> 21\u001b[1;33m \u001b[1;32mfrom\u001b[0m \u001b[0mgdsfactory\u001b[0m\u001b[1;33m.\u001b[0m\u001b[0mcell\u001b[0m \u001b[1;32mimport\u001b[0m \u001b[0mcell\u001b[0m\u001b[1;33m\u001b[0m\u001b[1;33m\u001b[0m\u001b[0m\n\u001b[0m\u001b[0;32m     22\u001b[0m \u001b[1;32mfrom\u001b[0m \u001b[0mgdsfactory\u001b[0m\u001b[1;33m.\u001b[0m\u001b[0mcomponent\u001b[0m \u001b[1;32mimport\u001b[0m \u001b[0mComponent\u001b[0m\u001b[1;33m\u001b[0m\u001b[1;33m\u001b[0m\u001b[0m\n\u001b[0;32m     23\u001b[0m from gdsfactory.component_layout import (\n",
      "\u001b[1;32m~\\anaconda3\\lib\\site-packages\\gdsfactory\\cell.py\u001b[0m in \u001b[0;36m<module>\u001b[1;34m\u001b[0m\n\u001b[0;32m     10\u001b[0m \u001b[1;33m\u001b[0m\u001b[0m\n\u001b[0;32m     11\u001b[0m \u001b[1;32mimport\u001b[0m \u001b[0mtoolz\u001b[0m\u001b[1;33m\u001b[0m\u001b[1;33m\u001b[0m\u001b[0m\n\u001b[1;32m---> 12\u001b[1;33m \u001b[1;32mfrom\u001b[0m \u001b[0mpydantic\u001b[0m \u001b[1;32mimport\u001b[0m \u001b[0mBaseModel\u001b[0m\u001b[1;33m,\u001b[0m \u001b[0mvalidate_arguments\u001b[0m\u001b[1;33m\u001b[0m\u001b[1;33m\u001b[0m\u001b[0m\n\u001b[0m\u001b[0;32m     13\u001b[0m \u001b[1;33m\u001b[0m\u001b[0m\n\u001b[0;32m     14\u001b[0m \u001b[1;32mfrom\u001b[0m \u001b[0mgdsfactory\u001b[0m\u001b[1;33m.\u001b[0m\u001b[0mcomponent\u001b[0m \u001b[1;32mimport\u001b[0m \u001b[0mComponent\u001b[0m\u001b[1;33m\u001b[0m\u001b[1;33m\u001b[0m\u001b[0m\n",
      "\u001b[1;32m~\\anaconda3\\lib\\site-packages\\pydantic\\__init__.cp38-win_amd64.pyd\u001b[0m in \u001b[0;36minit pydantic\u001b[1;34m()\u001b[0m\n",
      "\u001b[1;32m~\\anaconda3\\lib\\site-packages\\pydantic\\dataclasses.cp38-win_amd64.pyd\u001b[0m in \u001b[0;36minit pydantic.dataclasses\u001b[1;34m()\u001b[0m\n",
      "\u001b[1;31mImportError\u001b[0m: cannot import name dataclass_transform"
     ]
    }
   ],
   "source": [
    "import gdsfactory as gf"
   ]
  },
  {
   "cell_type": "code",
   "execution_count": 5,
   "metadata": {},
   "outputs": [],
   "source": [
    "# length refers to distance along the x axis (horizontal)\n",
    "# width refers to distance along the y axis (vertical)\n",
    "# All distances in um\n",
    "\n",
    "Nb_gate_length = 300\n",
    "NbSi_twiddle_middle_gap_length = 1000\n",
    "NbSi_middle_sense_gap_length = 700\n",
    "NbSi_overhang_length = 100\n",
    "\n",
    "Nb_width = 800\n",
    "NbSi_width = 500\n",
    "\n",
    "total_NbSi_length = 2 * NbSi_overhang_length + 3 * Nb_gate_length + NbSi_twiddle_middle_gap_length + NbSi_middle_sense_gap_length"
   ]
  },
  {
   "cell_type": "code",
   "execution_count": 12,
   "metadata": {},
   "outputs": [
    {
     "data": {
      "image/png": "[encoded data removed]",
      "text/plain": [
       "<Figure size 800x600 with 1 Axes>"
      ]
     },
     "metadata": {},
     "output_type": "display_data"
    }
   ],
   "source": [
    "nst = gf.Component()\n",
    "\n",
    "# Define shape of Nb gates\n",
    "Nb_gate = gf.components.rectangle(size=(Nb_gate_length, Nb_width), layer=(1, 0)) # On layer 1\n",
    "\n",
    "# Define shape of NbSi strip\n",
    "NbSi_strip = gf.components.rectangle(size=(total_NbSi_length, NbSi_width), layer=(2, 0)) # On layer 2\n",
    "\n",
    "# Make instances of Nb gates\n",
    "Nb_gate_1 = nst << Nb_gate\n",
    "Nb_gate_2 = nst << Nb_gate\n",
    "Nb_gate_3 = nst << Nb_gate\n",
    "\n",
    "# Move Nb gates into position\n",
    "Nb_gate_2.movex(Nb_gate_length + NbSi_twiddle_middle_gap_length)\n",
    "Nb_gate_3.movex(Nb_gate_length + NbSi_twiddle_middle_gap_length + Nb_gate_length + NbSi_middle_sense_gap_length)\n",
    "\n",
    "# Make instace of NbSi strip\n",
    "NbSi_strip_1 = nst << NbSi_strip\n",
    "NbSi_strip_1.movex(-1 * NbSi_overhang_length)\n",
    "NbSi_strip_1.movey((Nb_width - NbSi_width) / 2)\n",
    "\n",
    "nst.write_gds(\"nst_guard.gds\")  # write it to a GDS file. You can open it in klayout.\n",
    "nst.show()  # show it in klayout\n",
    "nst.plot()  # show it in jupyter notebook"
   ]
  },
  {
   "cell_type": "code",
   "execution_count": null,
   "metadata": {},
   "outputs": [],
   "source": []
  }
 ],
 "metadata": {
  "kernelspec": {
   "display_name": "Python 3",
   "language": "python",
   "name": "python3"
  },
  "language_info": {
   "codemirror_mode": {
    "name": "ipython",
    "version": 3
   },
   "file_extension": ".py",
   "mimetype": "text/x-python",
   "name": "python",
   "nbconvert_exporter": "python",
   "pygments_lexer": "ipython3",
   "version": "3.8.3"
  }
 },
 "nbformat": 4,
 "nbformat_minor": 5
}

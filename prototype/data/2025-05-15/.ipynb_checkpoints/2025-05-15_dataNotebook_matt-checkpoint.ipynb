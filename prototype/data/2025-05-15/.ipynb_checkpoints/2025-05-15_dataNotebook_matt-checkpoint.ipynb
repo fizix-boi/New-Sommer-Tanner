{
 "cells": [
  {
   "cell_type": "code",
   "execution_count": 2,
   "metadata": {},
   "outputs": [],
   "source": [
    "import csv\n",
    "import numpy as np\n",
    "import math as mp\n",
    "import cmath as cm\n",
    "from scipy.optimize import fsolve, root, fmin\n",
    "\n",
    "import matplotlib as mpl\n",
    "import matplotlib.pyplot as plt\n",
    "\n",
    "def bestSaveFig(name):\n",
    "    plt.savefig(name, bbox_inches = 'tight', pad_inches = 0.1, dpi = 500)\n",
    "    \n",
    "def dataGet(stFN):\n",
    "    boi = csv.reader(open(stFN, \"r\"), delimiter=',')\n",
    "    \n",
    "    dep = []\n",
    "    real = []\n",
    "    imag = []\n",
    "    mag = []\n",
    "    for row in boi:\n",
    "        dep.append(float(row[0]))\n",
    "        real.append(float(row[1]))\n",
    "        imag.append(float(row[2]))\n",
    "        mag.append(float(row[3]))\n",
    "        \n",
    "    return([dep, real, imag, mag])\n",
    "\n",
    "def sweepConsol_nstFSv02(sweepSet):\n",
    "    freq = []\n",
    "    realSig = []\n",
    "    imagSig = []\n",
    "    \n",
    "    for sweep in sweepSet\n",
    "        fn_freq1 = \"FrequencySweep_\"+str(sweep)+\".csv\"\n",
    "\n",
    "        data_freq1 = dataGet(fn_freq1)\n",
    "        data_freq2 = dataGet(fn_freq2)\n",
    "        data_freq3 = dataGet(fn_freq3)\n",
    "\n",
    "        freq = np.concatenate((freq, data_freq1[0]))\n",
    "\n",
    "        realSig = np.concatenate((realSig, data_freq1[1]))\n",
    "\n",
    "        imagSig = np.concatenate((imagSig, data_freq1[2]))\n",
    "    \n",
    "    return(freq, realSig, imagSig)\n",
    "\n",
    "def sweepSig_nstFSv02(sweepSet):\n",
    "    freq, realSig, imagSig = nstFSv01(sweepSet)\n",
    "    magSig = np.sqrt(np.add(np.square(realSig), np.square(imagSig)))\n",
    "    \n",
    "    return(freq, realSig, imagSig, magSig)\n",
    "    "
   ]
  },
  {
   "cell_type": "code",
   "execution_count": 59,
   "metadata": {},
   "outputs": [
    {
     "data": {
      "image/png": "[encoded data removed]",
      "text/plain": [
       "<Figure size 432x288 with 1 Axes>"
      ]
     },
     "metadata": {
      "needs_background": "light"
     },
     "output_type": "display_data"
    }
   ],
   "source": [
    "G = 1e5\n",
    "V = 4e-3\n",
    "\n",
    "fn_freqf = \"FrequencySweep_5927.csv\"\n",
    "data_freqf = dataGet(fn_freqf)\n",
    "\n",
    "fn_freq1 = \"FrequencySweep_5928.csv\"\n",
    "data_freq1 = dataGet(fn_freq1)\n",
    "fn_freq2 = \"FrequencySweep_5929.csv\"\n",
    "data_freq2 = dataGet(fn_freq2)\n",
    "\n",
    "freq = np.concatenate((data_freq1[0], data_freq2[0]))\n",
    "realSig = np.concatenate((data_freq1[1], data_freq2[1]))\n",
    "imagSig = np.concatenate((data_freq1[2], data_freq2[2]))\n",
    "\n",
    "realCurr = np.multiply(realSig, 1e9/(G))\n",
    "imagCurr = np.multiply(imagSig, 1e9/(G))\n",
    "magCurr = np.sqrt(np.add(np.square(realCurr), np.square(imagCurr)))\n",
    "\n",
    "realAdmit = np.multiply(realSig, 1e6/(G*V))\n",
    "imagAdmit = np.multiply(imagSig, 1e6/(G*V))\n",
    "magAdmit = np.sqrt(np.add(np.square(realAdmit), np.square(imagAdmit)))\n",
    "\n",
    "def gaussian(freq, peak, sigma, amp):\n",
    "    return np.exp(-0.5 * np.square(np.divide(np.subtract(freq, peak), sigma)))\n",
    "\n",
    "amplitude = gaussian(freq=freq, peak=260, sigma=50, amp = 1)\n",
    "\n",
    "#plt.plot(freq, realCurr, label = \"Real\")\n",
    "plt.plot(freq, imagCurr, label = \"Imaginary\")\n",
    "#plt.plot(freq, magCurr, label = \"Magnitude\")\n",
    "plt.plot(freq, amplitude, label = \"Magnitude\")\n",
    "\n",
    "plt.grid()\n",
    "plt.xlabel(\"Frequency [kHz]\")\n",
    "plt.ylabel(r\"Admittance [nA]\")\n",
    "plt.title(\"BG Subtracted and Normalized\")\n",
    "plt.legend()\n",
    "\n",
    "plt.ylim([0,300])\n",
    "\n",
    "plt.xscale(\"log\")\n",
    "#plt.yscale(\"log\")\n",
    "\n",
    "#bestSaveFig(\"curr-v-freq_11apr2025.png\")\n",
    "plt.show()\n",
    "\n"
   ]
  },
  {
   "cell_type": "code",
   "execution_count": null,
   "metadata": {},
   "outputs": [],
   "source": []
  }
 ],
 "metadata": {
  "kernelspec": {
   "display_name": "Python 3 (ipykernel)",
   "language": "python",
   "name": "python3"
  },
  "language_info": {
   "codemirror_mode": {
    "name": "ipython",
    "version": 3
   },
   "file_extension": ".py",
   "mimetype": "text/x-python",
   "name": "python",
   "nbconvert_exporter": "python",
   "pygments_lexer": "ipython3",
   "version": "3.11.5"
  }
 },
 "nbformat": 4,
 "nbformat_minor": 4
}

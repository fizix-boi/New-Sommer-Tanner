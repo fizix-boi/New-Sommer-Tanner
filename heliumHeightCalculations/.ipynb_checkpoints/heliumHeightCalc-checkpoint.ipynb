{
 "cells": [
  {
   "cell_type": "code",
   "execution_count": 1,
   "id": "5d818ba1",
   "metadata": {},
   "outputs": [],
   "source": [
    "import numpy as np\n",
    "import math as mp\n",
    "\n",
    "import matplotlib as mpl\n",
    "import matplotlib.pyplot as plt\n",
    "\n",
    "mpl.rcParams['savefig.dpi'] = 500\n",
    "\n",
    "def bestSaveFig(name):\n",
    "    plt.savefig(name, bbox_inches = 'tight', pad_inches = 0.1)\n",
    "\n",
    "#\\left(\\right)"
   ]
  },
  {
   "cell_type": "markdown",
   "id": "9b41f69f",
   "metadata": {},
   "source": [
    "The differential equation that governs helium film thickness is given by:\n",
    "\n",
    "$$\\nabla^2d=\\frac{\\rho g}{\\sigma}\\left[\\left(H+d\\right)-\\frac{\\left(\\varepsilon_{He}-1\\right)\\varepsilon_0}{2}\\left(\\varepsilon E_n^2+E_t^2\\right)-\\frac{\\alpha}{d^3}+\\frac{n^2e^2}{2\\varepsilon_0\\varepsilon_{He}}\\right]$$\n",
    "\n",
    "where $d$ is the thickness of the helium film, $\\rho$ is the mass density of liquid helium, $g$ is the gravitational constant, $\\sigma$ is surface tension (0.378), $H$ is the height of the device from bulk, $E_n$ is the electric field normal to the helium film, $E_t$ is the electric field transverse to the helium film, $\\alpha$ is the Van der Waals coefficient, and $n$ is electron density."
   ]
  },
  {
   "cell_type": "code",
   "execution_count": 2,
   "id": "61830703",
   "metadata": {},
   "outputs": [],
   "source": [
    "epsHe = 1.057\n",
    "eps0 = 8.85e-12\n",
    "q = 1.602e-19\n",
    "rho = 125\n",
    "g = 9.81\n",
    "\n",
    "alpha = ((3e-6 * ((1e-2) ** (4/3))) ** 3) * rho * g\n",
    "\n",
    "def nChan(Vtm, d):\n",
    "    return(epsHe * eps0 * abs(Vtm) / (q * d))\n",
    "\n",
    "def nThin(d, H):\n",
    "    term1 = epsHe * eps0 / (q ** 2)\n",
    "    term2 = alpha / (d ** 3)\n",
    "    term3 = rho * g * H\n",
    "    \n",
    "    #print(term2)\n",
    "    #print(term3)\n",
    "    \n",
    "    return(np.sqrt(term1 * (term2 - term3)))\n",
    "\n",
    "def dThin(n, H):\n",
    "    term1 = ((n * q) ** 2) / (epsHe * eps0)\n",
    "    term2 = rho * g * H\n",
    "    \n",
    "    return((alpha / (term2 + term1)) ** (1/3))"
   ]
  },
  {
   "cell_type": "code",
   "execution_count": 3,
   "id": "85ec305d",
   "metadata": {},
   "outputs": [
    {
     "data": {
      "text/plain": [
       "2.1995285975388953e-08"
      ]
     },
     "execution_count": 3,
     "metadata": {},
     "output_type": "execute_result"
    }
   ],
   "source": [
    "dThin(n = 1e14, H = 3e-3)"
   ]
  },
  {
   "cell_type": "code",
   "execution_count": null,
   "id": "f220042c",
   "metadata": {},
   "outputs": [],
   "source": []
  }
 ],
 "metadata": {
  "kernelspec": {
   "display_name": "Python 3 (ipykernel)",
   "language": "python",
   "name": "python3"
  },
  "language_info": {
   "codemirror_mode": {
    "name": "ipython",
    "version": 3
   },
   "file_extension": ".py",
   "mimetype": "text/x-python",
   "name": "python",
   "nbconvert_exporter": "python",
   "pygments_lexer": "ipython3",
   "version": "3.12.7"
  }
 },
 "nbformat": 4,
 "nbformat_minor": 5
}
